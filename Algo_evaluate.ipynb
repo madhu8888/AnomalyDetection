{
  "nbformat": 4,
  "nbformat_minor": 0,
  "metadata": {
    "colab": {
      "provenance": [],
      "authorship_tag": "ABX9TyMfi+mH1xH8SNg4bWnBVw8Q",
      "include_colab_link": true
    },
    "kernelspec": {
      "name": "python3",
      "display_name": "Python 3"
    },
    "language_info": {
      "name": "python"
    }
  },
  "cells": [
    {
      "cell_type": "markdown",
      "metadata": {
        "id": "view-in-github",
        "colab_type": "text"
      },
      "source": [
        "<a href=\"https://colab.research.google.com/github/madhu8888/AnomalyDetection/blob/main/Algo_evaluate.ipynb\" target=\"_parent\"><img src=\"https://colab.research.google.com/assets/colab-badge.svg\" alt=\"Open In Colab\"/></a>"
      ]
    },
    {
      "cell_type": "code",
      "execution_count": null,
      "metadata": {
        "id": "cvMeC8Qwysh9"
      },
      "outputs": [],
      "source": [
        "!pip install import_ipynb\n",
        "!pip install pyod\n",
        "import import_ipynb\n",
        "from sklearn.model_selection import train_test_split;\n",
        "import numpy as np\n",
        "import pandas as pd\n",
        "from pyod.utils.example import visualize\n",
        "from pyod.models.ocsvm import OCSVM\n",
        "from pyod.models.pca import PCA\n",
        "from pyod.models.gmm import GMM\n",
        "from pyod.models.iforest import IForest\n",
        "from sklearn.model_selection import train_test_split\n",
        "import Data_generation as Data_generate"
      ]
    },
    {
      "cell_type": "code",
      "source": [
        "def split_data(df):\n",
        "  X = df.loc[:, df.columns != \"Label\"]\n",
        "  y= df[\"Label\"]\n",
        "  x_train , x_test, y_train, y_test = train_test_split(X, y,stratify=y, test_size=0.20)\n",
        "  return x_train , x_test, y_train, y_test"
      ],
      "metadata": {
        "id": "SQxY7r4f3ZJm"
      },
      "execution_count": 188,
      "outputs": []
    },
    {
      "cell_type": "code",
      "source": [
        "def apply_anomaly_detection(x_train ,  x_test , clf):\n",
        "  clf.fit(x_train.values)\n",
        "  y_train_pred = clf.predict(x_train.values)\n",
        "  y_test_pred = clf.predict(x_test.values) \n",
        "  return y_train_pred,y_test_pred"
      ],
      "metadata": {
        "id": "x_33Aeds346h"
      },
      "execution_count": 189,
      "outputs": []
    },
    {
      "cell_type": "code",
      "source": [
        "def calculate_metrics(predicted, actual):\n",
        "  TP, FP, TN, FN = 0, 0, 0, 0\n",
        "  for i in range(len(predicted)):\n",
        "    if   (predicted[i] == 0) & (actual[i] == 0):\n",
        "      TP += 1\n",
        "    elif (predicted[i] == 0) & (actual[i] == 1):\n",
        "      FP += 1\n",
        "    elif (predicted[i] == 1) & (actual[i] == 1):\n",
        "      TN += 1\n",
        "    else:\n",
        "      FN += 1\n",
        "  accuracy  = (TP + TN) / (TP + FP + TN + FN) \n",
        "  precision = (TP) / (TP + FP) \n",
        "  recall    = (TP) / (TP + FN) \n",
        "  f1_score  = (2 * precision * recall) / (precision + recall)\n",
        "  return accuracy, precision, recall, f1_score "
      ],
      "metadata": {
        "id": "sF9sM9KOZR-1"
      },
      "execution_count": 191,
      "outputs": []
    },
    {
      "cell_type": "code",
      "source": [
        "def evaluate(y_train,y_test,y_train_pred, y_test_pred):\n",
        "  train_accuracy , train_precision, train_recall, train_f1_score = calculate_metrics(y_train_pred,y_train )\n",
        "  print(train_accuracy , train_precision, train_recall, train_f1_score)\n",
        "  test_accuracy , test_precision, test_recall, test_f1_score = calculate_metrics(y_test_pred, y_test )\n",
        "  print(train_accuracy , train_precision, train_recall, train_f1_score)\n",
        "  return train_accuracy , train_precision, train_recall, train_f1_score , test_accuracy , test_precision, test_recall, test_f1_score"
      ],
      "metadata": {
        "id": "e1lfDVGnZvWS"
      },
      "execution_count": 192,
      "outputs": []
    },
    {
      "cell_type": "code",
      "source": [
        "def algo_metric_eval(df , clf):\n",
        "  x_train , x_test, y_train, y_test = split_data(df);\n",
        "  y_train_pred,y_test_pred = apply_anomaly_detection(x_train ,  x_test , clf);\n",
        "  train_accuracy , train_precision, train_recall, train_f1_score = calculate_metrics(y_train_pred.tolist(),y_train.tolist() );\n",
        "  test_accuracy , test_precision, test_recall, test_f1_score = calculate_metrics(y_test_pred.tolist(), y_test.tolist());\n",
        "  return train_accuracy , train_precision, train_recall, train_f1_score, test_accuracy , test_precision, test_recall, test_f1_score;"
      ],
      "metadata": {
        "id": "vhl5HE-wqd4h"
      },
      "execution_count": 193,
      "outputs": []
    },
    {
      "cell_type": "markdown",
      "source": [
        "# Above this"
      ],
      "metadata": {
        "id": "cRwfhaXi9AEO"
      }
    },
    {
      "cell_type": "code",
      "source": [
        "df = Data_generate.GenerateDataset(n_Gauss_comp=1, samples=100, cont=0.1, n_features=5 , num_cat=0 , missing_percent=0, cov_type=\"tied-sph\", dep_per=0 , uni_low=10, uni_up=20, mu_low_range=20,mu_high_range=40)"
      ],
      "metadata": {
        "id": "EOXM_fs83Ir_"
      },
      "execution_count": 194,
      "outputs": []
    },
    {
      "cell_type": "code",
      "source": [
        "clf = IForest(contamination=0.2,random_state=42);"
      ],
      "metadata": {
        "id": "zDLjW3DtGYAW"
      },
      "execution_count": 195,
      "outputs": []
    },
    {
      "cell_type": "code",
      "source": [
        "algo_metric_eval(df,clf)"
      ],
      "metadata": {
        "id": "lG36froiGc-x"
      },
      "execution_count": null,
      "outputs": []
    },
    {
      "cell_type": "code",
      "source": [
        "# list of anomaly detection algorithms to be applied\n",
        "random_state = np.random.RandomState(42)\n",
        "outliers_fraction = 0.05;\n",
        "# Define nine outlier detection tools to be compared\n",
        "classifiers = {\n",
        "    'Isolation Forest': IForest(contamination=outliers_fraction,random_state=random_state),\n",
        "    'Principal Component Analysis (PCA)': PCA( contamination=outliers_fraction, random_state=random_state),\n",
        "    'GMM': GMM(contamination=outliers_fraction),\n",
        "    'One-class SVM (OCSVM)': OCSVM(contamination=outliers_fraction)\n",
        "}"
      ],
      "metadata": {
        "id": "n4Ad16Uf3yia"
      },
      "execution_count": 166,
      "outputs": []
    },
    {
      "cell_type": "code",
      "source": [
        "column_names = [];\n",
        "d_set = ['Train', 'Test']\n",
        "eval_met = ['Pre', 'Rec', 'Acc', 'F1']\n",
        "for j in d_set:\n",
        "  for k in eval_met:\n",
        "    column_names.append(j+\"_\"+k)\n",
        "df_return_metrics = pd.DataFrame( columns = column_names)"
      ],
      "metadata": {
        "id": "XZ7bj5ENHDWc"
      },
      "execution_count": 159,
      "outputs": []
    },
    {
      "cell_type": "code",
      "source": [
        "df_return_metrics"
      ],
      "metadata": {
        "colab": {
          "base_uri": "https://localhost:8080/",
          "height": 49
        },
        "id": "3m687Lu3hcDe",
        "outputId": "649b47f6-9cef-4795-c1d4-8e944c63bef5"
      },
      "execution_count": 125,
      "outputs": [
        {
          "output_type": "execute_result",
          "data": {
            "text/plain": [
              "Empty DataFrame\n",
              "Columns: [Train_Pre, Train_Rec, Train_Acc, Train_F1, Test_Pre, Test_Rec, Test_Acc, Test_F1]\n",
              "Index: []"
            ],
            "text/html": [
              "\n",
              "  <div id=\"df-9ffd376c-a74f-487d-b006-977dc76ed3cf\">\n",
              "    <div class=\"colab-df-container\">\n",
              "      <div>\n",
              "<style scoped>\n",
              "    .dataframe tbody tr th:only-of-type {\n",
              "        vertical-align: middle;\n",
              "    }\n",
              "\n",
              "    .dataframe tbody tr th {\n",
              "        vertical-align: top;\n",
              "    }\n",
              "\n",
              "    .dataframe thead th {\n",
              "        text-align: right;\n",
              "    }\n",
              "</style>\n",
              "<table border=\"1\" class=\"dataframe\">\n",
              "  <thead>\n",
              "    <tr style=\"text-align: right;\">\n",
              "      <th></th>\n",
              "      <th>Train_Pre</th>\n",
              "      <th>Train_Rec</th>\n",
              "      <th>Train_Acc</th>\n",
              "      <th>Train_F1</th>\n",
              "      <th>Test_Pre</th>\n",
              "      <th>Test_Rec</th>\n",
              "      <th>Test_Acc</th>\n",
              "      <th>Test_F1</th>\n",
              "    </tr>\n",
              "  </thead>\n",
              "  <tbody>\n",
              "  </tbody>\n",
              "</table>\n",
              "</div>\n",
              "      <button class=\"colab-df-convert\" onclick=\"convertToInteractive('df-9ffd376c-a74f-487d-b006-977dc76ed3cf')\"\n",
              "              title=\"Convert this dataframe to an interactive table.\"\n",
              "              style=\"display:none;\">\n",
              "        \n",
              "  <svg xmlns=\"http://www.w3.org/2000/svg\" height=\"24px\"viewBox=\"0 0 24 24\"\n",
              "       width=\"24px\">\n",
              "    <path d=\"M0 0h24v24H0V0z\" fill=\"none\"/>\n",
              "    <path d=\"M18.56 5.44l.94 2.06.94-2.06 2.06-.94-2.06-.94-.94-2.06-.94 2.06-2.06.94zm-11 1L8.5 8.5l.94-2.06 2.06-.94-2.06-.94L8.5 2.5l-.94 2.06-2.06.94zm10 10l.94 2.06.94-2.06 2.06-.94-2.06-.94-.94-2.06-.94 2.06-2.06.94z\"/><path d=\"M17.41 7.96l-1.37-1.37c-.4-.4-.92-.59-1.43-.59-.52 0-1.04.2-1.43.59L10.3 9.45l-7.72 7.72c-.78.78-.78 2.05 0 2.83L4 21.41c.39.39.9.59 1.41.59.51 0 1.02-.2 1.41-.59l7.78-7.78 2.81-2.81c.8-.78.8-2.07 0-2.86zM5.41 20L4 18.59l7.72-7.72 1.47 1.35L5.41 20z\"/>\n",
              "  </svg>\n",
              "      </button>\n",
              "      \n",
              "  <style>\n",
              "    .colab-df-container {\n",
              "      display:flex;\n",
              "      flex-wrap:wrap;\n",
              "      gap: 12px;\n",
              "    }\n",
              "\n",
              "    .colab-df-convert {\n",
              "      background-color: #E8F0FE;\n",
              "      border: none;\n",
              "      border-radius: 50%;\n",
              "      cursor: pointer;\n",
              "      display: none;\n",
              "      fill: #1967D2;\n",
              "      height: 32px;\n",
              "      padding: 0 0 0 0;\n",
              "      width: 32px;\n",
              "    }\n",
              "\n",
              "    .colab-df-convert:hover {\n",
              "      background-color: #E2EBFA;\n",
              "      box-shadow: 0px 1px 2px rgba(60, 64, 67, 0.3), 0px 1px 3px 1px rgba(60, 64, 67, 0.15);\n",
              "      fill: #174EA6;\n",
              "    }\n",
              "\n",
              "    [theme=dark] .colab-df-convert {\n",
              "      background-color: #3B4455;\n",
              "      fill: #D2E3FC;\n",
              "    }\n",
              "\n",
              "    [theme=dark] .colab-df-convert:hover {\n",
              "      background-color: #434B5C;\n",
              "      box-shadow: 0px 1px 3px 1px rgba(0, 0, 0, 0.15);\n",
              "      filter: drop-shadow(0px 1px 2px rgba(0, 0, 0, 0.3));\n",
              "      fill: #FFFFFF;\n",
              "    }\n",
              "  </style>\n",
              "\n",
              "      <script>\n",
              "        const buttonEl =\n",
              "          document.querySelector('#df-9ffd376c-a74f-487d-b006-977dc76ed3cf button.colab-df-convert');\n",
              "        buttonEl.style.display =\n",
              "          google.colab.kernel.accessAllowed ? 'block' : 'none';\n",
              "\n",
              "        async function convertToInteractive(key) {\n",
              "          const element = document.querySelector('#df-9ffd376c-a74f-487d-b006-977dc76ed3cf');\n",
              "          const dataTable =\n",
              "            await google.colab.kernel.invokeFunction('convertToInteractive',\n",
              "                                                     [key], {});\n",
              "          if (!dataTable) return;\n",
              "\n",
              "          const docLinkHtml = 'Like what you see? Visit the ' +\n",
              "            '<a target=\"_blank\" href=https://colab.research.google.com/notebooks/data_table.ipynb>data table notebook</a>'\n",
              "            + ' to learn more about interactive tables.';\n",
              "          element.innerHTML = '';\n",
              "          dataTable['output_type'] = 'display_data';\n",
              "          await google.colab.output.renderOutput(dataTable, element);\n",
              "          const docLink = document.createElement('div');\n",
              "          docLink.innerHTML = docLinkHtml;\n",
              "          element.appendChild(docLink);\n",
              "        }\n",
              "      </script>\n",
              "    </div>\n",
              "  </div>\n",
              "  "
            ]
          },
          "metadata": {},
          "execution_count": 125
        }
      ]
    },
    {
      "cell_type": "code",
      "source": [
        "x_train , x_test, y_train, y_test = split_data(df)\n",
        "\n",
        "#y_train_pred,y_test_pred = apply_anomaly_detection(x_train , x_test)"
      ],
      "metadata": {
        "id": "Z8SQmGGuf99y"
      },
      "execution_count": 83,
      "outputs": []
    },
    {
      "cell_type": "code",
      "source": [
        "clf = IForest(contamination=outliers_fraction,random_state=random_state);\n",
        "y_train_pred,y_test_pred = apply_anomaly_detection (x_train, x_test, clf)\n"
      ],
      "metadata": {
        "id": "z7gFYg2JWKh4"
      },
      "execution_count": 84,
      "outputs": []
    },
    {
      "cell_type": "code",
      "source": [
        "cont_factor = np.arange(0.05,0.55,0.05)\n"
      ],
      "metadata": {
        "id": "cVex2sO7WK-_"
      },
      "execution_count": 85,
      "outputs": []
    },
    {
      "cell_type": "code",
      "source": [
        "df_cont_factor = pd.DataFrame(cont_factor, columns =['Cont_factor'])"
      ],
      "metadata": {
        "id": "Dj2B0zSP5Zic"
      },
      "execution_count": 86,
      "outputs": []
    },
    {
      "cell_type": "code",
      "source": [
        "Cont_factor_train_acc = []\n",
        "Cont_factor_train_precision = []\n",
        "Cont_factor_train_recall = []\n",
        "Cont_factor_train_f1_score = []"
      ],
      "metadata": {
        "id": "vtdCE8QjXSvg"
      },
      "execution_count": 87,
      "outputs": []
    },
    {
      "cell_type": "code",
      "source": [
        "Cont_factor_test_acc = []\n",
        "Cont_factor_test_precision = []\n",
        "Cont_factor_test_recall = []\n",
        "Cont_factor_test_f1_score = []"
      ],
      "metadata": {
        "id": "KW5OKo6uYF7a"
      },
      "execution_count": 88,
      "outputs": []
    },
    {
      "cell_type": "code",
      "source": [
        "for i in cont_factor:\n",
        "  clf = IForest(contamination=i,random_state=random_state);\n",
        "  y_train_pred,y_test_pred = apply_anomaly_detection (x_train, x_test, clf)\n",
        "  #print(\"y_train_pred\")\n",
        "  #print(y_train_pred)\n",
        "  train_accuracy , train_precision, train_recall, train_f1_score = calculate_metrics(y_train_pred.tolist(),y_train.tolist() );\n",
        "  test_accuracy , test_precision, test_recall, test_f1_score = calculate_metrics(y_test_pred.tolist(), y_test.tolist());\n",
        "\n",
        "  # train data metrics\n",
        "  Cont_factor_train_acc.append(train_accuracy)\n",
        "  Cont_factor_train_precision.append(train_precision)\n",
        "  Cont_factor_train_recall.append(train_recall)\n",
        "  Cont_factor_train_f1_score.append(train_f1_score)\n",
        "  # test data metrics\n",
        "  #print(\"test accuracy\")\n",
        "  #print(test_accuracy , test_precision, test_recall, test_f1_score)\n",
        "  Cont_factor_test_acc.append(test_accuracy)\n",
        "  Cont_factor_test_precision.append(test_precision)\n",
        "  Cont_factor_test_recall.append(test_recall)\n",
        "  Cont_factor_test_f1_score.append(test_f1_score)\n",
        "\n"
      ],
      "metadata": {
        "id": "wgma2ouqXpP2"
      },
      "execution_count": 89,
      "outputs": []
    },
    {
      "cell_type": "code",
      "source": [
        "df_cont_factor['Train_acc'] = Cont_factor_train_acc\n",
        "df_cont_factor['Train_prec'] = Cont_factor_train_precision\n",
        "df_cont_factor['Train_recall'] = Cont_factor_train_recall\n",
        "df_cont_factor['Train_F1'] = Cont_factor_train_f1_score\n"
      ],
      "metadata": {
        "id": "VyFLYGAM6K5s"
      },
      "execution_count": 90,
      "outputs": []
    },
    {
      "cell_type": "code",
      "source": [
        "df_cont_factor['Test_acc'] = Cont_factor_test_acc\n",
        "df_cont_factor['Test_prec'] = Cont_factor_test_precision\n",
        "df_cont_factor['Test_recall'] = Cont_factor_test_recall\n",
        "df_cont_factor['Test_F1'] = Cont_factor_test_f1_score"
      ],
      "metadata": {
        "id": "dEhSNwiV75W6"
      },
      "execution_count": 91,
      "outputs": []
    },
    {
      "cell_type": "code",
      "source": [
        "algo_metric_eval(df, clf)"
      ],
      "metadata": {
        "id": "D3Gu1orMa35k"
      },
      "execution_count": null,
      "outputs": []
    },
    {
      "cell_type": "code",
      "source": [
        "def algo_eval_2(df, clf):\n",
        "    x_train , x_test, y_train, y_test = split_data(df)\n",
        "    y_train_pred,y_test_pred = apply_anomaly_detection (x_train, x_test, clf)\n",
        "    #df_return_metrics = get_return_dataframe()\n",
        "    tempDf = pd.DataFrame(columns= column_names);\n",
        "    # train metrics\n",
        "    train_accuracy , train_precision, train_recall, train_f1_score = calculate_metrics(y_train_pred.tolist(),y_train.tolist() );\n",
        "    print(train_accuracy , train_precision, train_recall, train_f1_score)\t\t\t\t\t\t\t\n",
        "    tempDf['Train_Acc']= train_accuracy;\n",
        "    tempDf['Train_Pre']=train_precision;\n",
        "    tempDf['Train_Rec'] = train_recall;\n",
        "    tempDf['Train_F1']= train_f1_score;\n",
        "    #test metrics\n",
        "    test_accuracy , test_precision, test_recall, test_f1_score = calculate_metrics(y_test_pred.tolist(), y_test.tolist());\n",
        "    tempDf['Test_Acc']=test_accuracy;\n",
        "    tempDf['Test_Pre']=test_precision;\n",
        "    tempDf['Test_Rec']=test_recall;\n",
        "    tempDf['Test_F1']=test_f1_score;\n",
        "    print(tempDf['Train_Acc'])\n",
        "    #return train_accuracy , train_precision, train_recall, train_f1_score , test_accuracy , test_precision, test_recall, test_f1_score\n",
        "    #df_return_metrics = pd.concat([df_return_metrics,tempDf])\n",
        "    return tempDf"
      ],
      "metadata": {
        "id": "SuXxUsSrEJDA"
      },
      "execution_count": 146,
      "outputs": []
    },
    {
      "cell_type": "code",
      "source": [
        "#def return_metrics(df, clf, df_return_metrics):\n",
        "#  tempDf = algo_eval(df, clf)\n",
        "#  df_return_metrics = pd.concat([df_return_metrics,tempDf])\n",
        "  #print(tempDf );\n",
        "  #return df_return_metrics"
      ],
      "metadata": {
        "id": "WnWJIAIbPp04"
      },
      "execution_count": 147,
      "outputs": []
    },
    {
      "cell_type": "code",
      "source": [
        "#return_metrics(df, clf,df_return_metrics )"
      ],
      "metadata": {
        "colab": {
          "base_uri": "https://localhost:8080/"
        },
        "id": "H4OOTBjGidzG",
        "outputId": "f2601dea-3e3d-4dd5-be91-57670205cb3b"
      },
      "execution_count": 148,
      "outputs": [
        {
          "output_type": "stream",
          "name": "stdout",
          "text": [
            "0.6 1.0 0.5555555555555556 0.7142857142857143\n",
            "Series([], Name: Train_Acc, dtype: float64)\n"
          ]
        }
      ]
    },
    {
      "cell_type": "code",
      "source": [
        "#algo_eval(df, clf)"
      ],
      "metadata": {
        "colab": {
          "base_uri": "https://localhost:8080/",
          "height": 258
        },
        "id": "lfa4mcHOaRIS",
        "outputId": "8e92c5aa-b953-4c68-ee93-9a574d449236"
      },
      "execution_count": 127,
      "outputs": [
        {
          "output_type": "error",
          "ename": "UnboundLocalError",
          "evalue": "ignored",
          "traceback": [
            "\u001b[0;31m---------------------------------------------------------------------------\u001b[0m",
            "\u001b[0;31mUnboundLocalError\u001b[0m                         Traceback (most recent call last)",
            "\u001b[0;32m<ipython-input-127-94dfd747a339>\u001b[0m in \u001b[0;36m<module>\u001b[0;34m\u001b[0m\n\u001b[0;32m----> 1\u001b[0;31m \u001b[0malgo_eval\u001b[0m\u001b[0;34m(\u001b[0m\u001b[0mdf\u001b[0m\u001b[0;34m,\u001b[0m \u001b[0mclf\u001b[0m\u001b[0;34m)\u001b[0m\u001b[0;34m\u001b[0m\u001b[0;34m\u001b[0m\u001b[0m\n\u001b[0m",
            "\u001b[0;32m<ipython-input-126-1fbb4ce797ae>\u001b[0m in \u001b[0;36malgo_eval\u001b[0;34m(df, clf)\u001b[0m\n\u001b[1;32m     17\u001b[0m     \u001b[0mtempDf\u001b[0m\u001b[0;34m[\u001b[0m\u001b[0;34m'Test_F1'\u001b[0m\u001b[0;34m]\u001b[0m\u001b[0;34m=\u001b[0m\u001b[0mtest_f1_score\u001b[0m\u001b[0;34m;\u001b[0m\u001b[0;34m\u001b[0m\u001b[0;34m\u001b[0m\u001b[0m\n\u001b[1;32m     18\u001b[0m     \u001b[0;31m#return train_accuracy , train_precision, train_recall, train_f1_score , test_accuracy , test_precision, test_recall, test_f1_score\u001b[0m\u001b[0;34m\u001b[0m\u001b[0;34m\u001b[0m\u001b[0;34m\u001b[0m\u001b[0m\n\u001b[0;32m---> 19\u001b[0;31m     \u001b[0mdf_return_metrics\u001b[0m \u001b[0;34m=\u001b[0m \u001b[0mpd\u001b[0m\u001b[0;34m.\u001b[0m\u001b[0mconcat\u001b[0m\u001b[0;34m(\u001b[0m\u001b[0;34m[\u001b[0m\u001b[0mdf_return_metrics\u001b[0m\u001b[0;34m,\u001b[0m\u001b[0mtempDf\u001b[0m\u001b[0;34m]\u001b[0m\u001b[0;34m)\u001b[0m\u001b[0;34m\u001b[0m\u001b[0;34m\u001b[0m\u001b[0m\n\u001b[0m",
            "\u001b[0;31mUnboundLocalError\u001b[0m: local variable 'df_return_metrics' referenced before assignment"
          ]
        }
      ]
    }
  ]
}