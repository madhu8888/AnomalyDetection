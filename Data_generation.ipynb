{
  "nbformat": 4,
  "nbformat_minor": 0,
  "metadata": {
    "colab": {
      "provenance": [],
      "authorship_tag": "ABX9TyOL9u0UTpnR+cUmhBvepvYI",
      "include_colab_link": true
    },
    "kernelspec": {
      "name": "python3",
      "display_name": "Python 3"
    },
    "language_info": {
      "name": "python"
    }
  },
  "cells": [
    {
      "cell_type": "markdown",
      "metadata": {
        "id": "view-in-github",
        "colab_type": "text"
      },
      "source": [
        "<a href=\"https://colab.research.google.com/github/madhu8888/AnomalyDetection/blob/main/Data_generation.ipynb\" target=\"_parent\"><img src=\"https://colab.research.google.com/assets/colab-badge.svg\" alt=\"Open In Colab\"/></a>"
      ]
    },
    {
      "cell_type": "code",
      "execution_count": null,
      "metadata": {
        "id": "qTiBhqcKNTbV"
      },
      "outputs": [],
      "source": [
        "import numpy as np\n",
        "import math\n",
        "import matplotlib.pyplot as plt\n",
        "import scipy.stats as st\n",
        "import pandas as pd\n",
        "import random\n",
        "from sklearn.datasets import make_spd_matrix;"
      ]
    },
    {
      "cell_type": "code",
      "source": [
        "col_hyperparameters=['DatabaseName','N_gauss','N_Samples','Cont_factor','N_Features','N_Categorical','Missing_Per', 'Cov_Type', 'Mix_Coeff', 'Mu_Vector', 'Cov_matrix', 'Dep_per']\n",
        "df_hyperparameters = pd.DataFrame(columns = col_hyperparameters);"
      ],
      "metadata": {
        "id": "mOIqc6mZZlZj"
      },
      "execution_count": null,
      "outputs": []
    },
    {
      "cell_type": "code",
      "source": [
        "cov_matrix_lst = []\n",
        "mu_vector_lst = []"
      ],
      "metadata": {
        "id": "1MS3YijYG_48"
      },
      "execution_count": null,
      "outputs": []
    },
    {
      "cell_type": "code",
      "source": [
        "def mixing_coefficients(n_Gauss_comp):\n",
        "    \"\"\"\n",
        "    This function is used to create the mixing coefficients \n",
        "    during data generation by \n",
        "    Gaussian mixture models\n",
        "    \"\"\"\n",
        "    print(\"Number of Gauss: \", n_Gauss_comp)\n",
        "    sum_x =0;\n",
        "    x  = []\n",
        "    for i in range(n_Gauss_comp):\n",
        "      x_temp = (round(random.uniform(0,1), 2));\n",
        "      x.append(x_temp)\n",
        "      sum_x = sum_x + x_temp;\n",
        "    mix_coef = [num / sum_x for num in x]\n",
        "    #df_hyperparameters['Mix_Coeff'] = mix_coef;\n",
        "    return mix_coef"
      ],
      "metadata": {
        "id": "gADxra0DNu9d"
      },
      "execution_count": null,
      "outputs": []
    },
    {
      "cell_type": "code",
      "source": [
        "def mu_vector( n_features, low_range, high_range):\n",
        "    \"\"\"\n",
        "    This function is used to generate the mean vector for various\n",
        "    Gaussians in GMM\n",
        "    \"\"\"\n",
        "    mu_set = set()\n",
        "    while(len(mu_set) < n_features):\n",
        "      mu_set.add(random.randint(low_range, high_range))\n",
        "    mu_vector_lst.append(mu_set)\n",
        "    return list(mu_set);"
      ],
      "metadata": {
        "id": "Pl3_buL0N6zP"
      },
      "execution_count": null,
      "outputs": []
    },
    {
      "cell_type": "code",
      "source": [
        "def make_cov_matrix(cov_type , n_features,n_Gauss_comp ):\n",
        "    mincv = 0.1;\n",
        "    cov_mat = [];\n",
        "    if cov_type.lower() == \"tied-full\":\n",
        "      print(\"tied-full\")\n",
        "      cov_m_temp = make_spd_matrix(n_features)\n",
        "      cov_m = np.linalg.cholesky(cov_m_temp)\n",
        "      #print(cov_m)\n",
        "      cov_mat.append(cov_m)\n",
        "      cov_matrix_lst.append(cov_mat)\n",
        "      return cov_mat\n",
        "    elif cov_type.lower() == \"tied-diag\":\n",
        "      print(\"tied-diag\")\n",
        "      cov_m = (mincv + mincv * np.dot(np.random.random((n_features, 1)),np.ones((1, n_features)))) ** 2;\n",
        "      cov_m = np.diag(np.diag(cov_m)) \n",
        "      #print(cov_m)\n",
        "      cov_mat.append(cov_m)\n",
        "      cov_matrix_lst.append(cov_mat)\n",
        "      return cov_mat\n",
        "    elif cov_type.lower() == \"tied-sph\":\n",
        "      #cov_m = (mincv + mincv * np.dot(rand((n_components, 1)),np.ones((1, n_features)))) ** 2\n",
        "      cov_m = np.random.random()* np.eye(n_features,n_features)\n",
        "      #print(cov_m)\n",
        "      cov_mat.append(cov_m)\n",
        "      cov_matrix_lst.append(cov_mat)\n",
        "      return cov_mat\n",
        "    elif cov_type.lower() == \"diff-full\":\n",
        "      #print(\"diff-full\")\n",
        "      for i in range(n_Gauss_comp):\n",
        "        #print(\"///////////////////\")\n",
        "        cov_m_temp = make_spd_matrix(n_features)\n",
        "        cov_m = np.linalg.cholesky(cov_m_temp)\n",
        "        #print(cov_m)\n",
        "        cov_mat.append(cov_m)\n",
        "      cov_matrix_lst.append(cov_mat)\n",
        "      return cov_mat\n",
        "    elif cov_type.lower() == \"diff-diag\":\n",
        "      #print(\"diff-diag\")\n",
        "      for i in range(n_Gauss_comp):\n",
        "        #print(\"///////////////////\")\n",
        "        cov_m = (mincv + mincv * np.dot(np.random.random((n_features, 1)),np.ones((1, n_features)))) ** 2;\n",
        "        cov_m = np.diag(np.diag(cov_m))\n",
        "        #print(cov_m)\n",
        "        cov_mat.append(cov_m)\n",
        "      cov_matrix_lst.aappend(cov_mat)\n",
        "      return cov_mat"
      ],
      "metadata": {
        "id": "wpwZtXYLQH21"
      },
      "execution_count": null,
      "outputs": []
    },
    {
      "cell_type": "code",
      "source": [
        "def generate_cov_matrix(n_Gauss_comp, n_features):\n",
        "    \"\"\"\n",
        "    This function is used to generate covariance matrix\n",
        "    for various Gaussians in GMM\n",
        "    \"\"\"\n",
        "    #spd_matrix = make_spd_matrix(self.n_features)\n",
        "    #cov_matrix = np.linalg.cholesky(spd_matrix) \n",
        "    #print(\"cov_matrix : \", cov_matrix)\n",
        "    return 1# cov_matrix"
      ],
      "metadata": {
        "id": "BJwgfxyxQYtg"
      },
      "execution_count": null,
      "outputs": []
    },
    {
      "cell_type": "code",
      "source": [
        "def generate_multivariate_gaussian_data(n_features, mean, cov):\n",
        "    \"\"\"\n",
        "    This function is used to generate single multivariate Gaussian RV\n",
        "    \"\"\"\n",
        "    z = []\n",
        "    for i in range(n_features):\n",
        "      u1 = np.random.uniform(0,1)\n",
        "      u2 = np.random.uniform(0,1)\n",
        "      z1 = math.sqrt(-2*math.log(u1))*math.cos(2*math.pi*u2)\n",
        "      z.append(z1)\n",
        "    z = np.array(z)\n",
        "    mvn_rv = mean + z.dot(cov)\n",
        "    return mvn_rv"
      ],
      "metadata": {
        "id": "uznhdD65QarX"
      },
      "execution_count": null,
      "outputs": []
    },
    {
      "cell_type": "code",
      "source": [
        "def generate_GMM_inliers(n_Gauss_comp, n_features , n_inliers , cov_type, mu_low_range,mu_high_range):\n",
        "    \"\"\"\n",
        "    This function is used to generate GMM inliers data \n",
        "    \"\"\"\n",
        "    mix_probab = mixing_coefficients(n_Gauss_comp)#(self.n_Gauss_comp);\n",
        "    X_Train = []\n",
        "    Y_Train = []\n",
        "    mu_val = []\n",
        "    #cov_mat = []\n",
        "    cov_mat = make_cov_matrix(cov_type ,n_features,n_Gauss_comp);\n",
        "\n",
        "\n",
        "    for val in mix_probab:\n",
        "      num_samples = int(val * n_inliers);\n",
        "      #print(\"num_samples: \",num_samples)\n",
        "      mu_val = mu_vector(n_features,mu_low_range,mu_high_range)#self.n_features, 1, 40); \n",
        "      #print(\"mu_val: \",mu_val)\n",
        "      cov_mat = generate_cov_matrix(n_Gauss_comp, n_features)#(self.n_Gauss_comp, self.n_features)\n",
        "      for j in range(num_samples):\n",
        "        X_train_temp  = generate_multivariate_gaussian_data(n_features,mu_val, cov_mat) #(self.n_features, mu_val, cov_mat)\n",
        "        X_Train.append(X_train_temp)\n",
        "      #print(len(X_Train))\n",
        "    return X_Train"
      ],
      "metadata": {
        "id": "N7jNltokQfDo"
      },
      "execution_count": null,
      "outputs": []
    },
    {
      "cell_type": "code",
      "source": [
        "def generate_Uniform_outliers(n_outliers, n_features , uni_low, uni_up):\n",
        "    \"\"\"\n",
        "    This function is used to generate uniform outliers data \n",
        "    \"\"\"\n",
        "    outliers = np.random.uniform(uni_low,uni_up, size= (n_outliers, n_features));\n",
        "    return outliers;"
      ],
      "metadata": {
        "id": "GSJh74-3QoHS"
      },
      "execution_count": null,
      "outputs": []
    },
    {
      "cell_type": "code",
      "source": [
        "def multinouli( n_cat ):\n",
        "    sum_x =0;\n",
        "    x  = []\n",
        "    pdf_list =[]\n",
        "    for i in range(n_cat):\n",
        "      x_temp = (round(random.uniform(0,1), 2));\n",
        "      x.append(x_temp)\n",
        "      sum_x = sum_x + x_temp;\n",
        "    p_list = [num / sum_x for num in x]\n",
        "    cdf_list = []\n",
        "    sum = 0\n",
        "    for i in range(len(p_list)):\n",
        "      sum = sum + p_list[i]\n",
        "      cdf_list.append(sum)\n",
        "    r_num = np.random.uniform(0,1)\n",
        "    for i in range(len(cdf_list)):\n",
        "      if r_num < cdf_list[i]:\n",
        "        return i "
      ],
      "metadata": {
        "id": "zarv9covQr-1"
      },
      "execution_count": null,
      "outputs": []
    },
    {
      "cell_type": "code",
      "source": [
        "def generate_categorical(num_cat ):\n",
        "    n_cat_var = num_cat;\n",
        "    cat_col = []\n",
        "    for i in range(n_cat_var):\n",
        "      cat_col_temp = []\n",
        "      num_categories = multinouli(10)\n",
        "      num_categories = num_categories +2\n",
        "      #print(\"num_categories: \",num_categories)\n",
        "      #cat_col= []\n",
        "      #for j in range(n_cat_var):\n",
        "      cat_val = multinouli(num_categories)\n",
        "      chr_val =  chr(65+cat_val) #+ chr(65+cat_val) \n",
        "      #print(chr_val)\n",
        "      #cat_col_temp.append(chr_val)\n",
        "      cat_col.append(chr_val)\n",
        "    return cat_col\n",
        "    #print(cat_col)"
      ],
      "metadata": {
        "id": "aQMWMrGqQv2I"
      },
      "execution_count": null,
      "outputs": []
    },
    {
      "cell_type": "code",
      "source": [
        "def combine_inlier_outlier_label(n_Gauss_comp, samples, cont, n_features , num_cat , missing_percent, cov_type, dep_per , uni_low, uni_up , mu_low_range,mu_high_range):\n",
        "    n_outliers = int(cont * samples);\n",
        "    n_inliers = samples - n_outliers;\n",
        "\n",
        "    column_list = []\n",
        "    for i in range(n_features):\n",
        "      col_name = 'X'+str(i)\n",
        "      column_list.append(col_name)\n",
        "    \n",
        "    inliers = generate_GMM_inliers(n_Gauss_comp, n_features, n_inliers , cov_type, mu_low_range,mu_high_range) #self.n_Gauss_comp , self.n_features, self.n_inliers)\n",
        "    df_inliers = pd.DataFrame(inliers, columns =column_list)\n",
        "    df_inliers['Label']= 0 # inliers label 0\n",
        "    #print(\"Inliers\")\n",
        "    #print(df_inliers)\n",
        "    \n",
        "    outliers = generate_Uniform_outliers(n_outliers, n_features ,uni_low, uni_up) #self.n_outliers, self.n_features)\n",
        "    df_outliers = pd.DataFrame(outliers , columns=column_list)\n",
        "    df_outliers['Label']= 1 # inliers label 1\n",
        "    #print(\"Outliers\")\n",
        "    #print(df_outliers)\n",
        "    # create a pd dataframe\n",
        "\n",
        "    final_dataset = pd.concat([df_outliers, df_inliers], axis=0, ignore_index=True)\n",
        "\n",
        "\n",
        "    if(num_cat>0):\n",
        "      cat_column_list = []\n",
        "      for i in range(num_cat):\n",
        "        cat_col_name = 'C'+str(i)\n",
        "        cat_column_list.append(cat_col_name)\n",
        "      #print(cat_column_list)\n",
        "      num_datapoints = len(df_outliers)+len(df_inliers)\n",
        "      cat_data = []\n",
        "      for i in range(num_datapoints):\n",
        "        col_temp = generate_categorical(num_cat)\n",
        "        #print(\"col_temp: \",col_temp)\n",
        "        cat_data.append(col_temp)\n",
        "      #print(cat_data)\n",
        "      df_cat = pd.DataFrame(cat_data, columns = cat_column_list)\n",
        "      final_dataset = pd.concat([df_cat, final_dataset], axis=1)\n",
        "    #return df_dataset\n",
        "    return final_dataset"
      ],
      "metadata": {
        "id": "s5YPoCBqQzbz"
      },
      "execution_count": null,
      "outputs": []
    },
    {
      "cell_type": "code",
      "source": [
        "def write_excel(df_hyperparameters):\n",
        "  name = str(df_hyperparameters['DatabaseName'])\n",
        "  #print(name)\n",
        "  df_hyperparameters.to_excel(name+\".xlsx\")  \n"
      ],
      "metadata": {
        "id": "yWweUT2AQ65K"
      },
      "execution_count": null,
      "outputs": []
    },
    {
      "cell_type": "code",
      "source": [
        "def GenerateDataset(n_Gauss_comp, samples, cont, n_features , num_cat , missing_percent, cov_type, dep_per , uni_low, uni_up , mu_low_range,mu_high_range ):\n",
        "  df_hyperparameters['DatabaseName'] = \"DB_\"+ str(samples)+\"_\"+str(cont)+\"_\"+str(n_features)+\"_\"+str(num_cat)+\"_\"+str(missing_percent)+\"_\"+str(cov_type)+\"_\"+str(dep_per);\n",
        "  df_hyperparameters['N_gauss'] = n_Gauss_comp;\n",
        "  df_hyperparameters['N_Samples'] = samples;\n",
        "  df_hyperparameters['Cont_factor'] = cont;\n",
        "  df_hyperparameters['N_Features'] = n_features;\n",
        "  df_hyperparameters['N_Categorical'] = num_cat;\n",
        "  df_hyperparameters['Missing_Per'] = missing_percent;\n",
        "  df_hyperparameters['Cov_Type']= cov_type;\n",
        "  df_hyperparameters['Dependency_percentage'] = dep_per;\n",
        "\n",
        "\n",
        "  df_Dataset = combine_inlier_outlier_label(n_Gauss_comp, samples, cont, n_features , num_cat , missing_percent, cov_type, dep_per , uni_low, uni_up ,mu_low_range,mu_high_range);\n",
        "\n",
        "  #write_excel(df_hyperparameters);\n",
        "\n",
        "  return df_Dataset;\n"
      ],
      "metadata": {
        "id": "fwbg8wuBchAO"
      },
      "execution_count": null,
      "outputs": []
    },
    {
      "cell_type": "code",
      "source": [
        "df = GenerateDataset(n_Gauss_comp= 3, samples=100, cont=0.1, n_features=2 , num_cat=5 , missing_percent=0, cov_type=\"tied-sph\", dep_per=0 , uni_low=10, uni_up=20, mu_low_range=20,mu_high_range=40)"
      ],
      "metadata": {
        "colab": {
          "base_uri": "https://localhost:8080/"
        },
        "id": "ZrsoM-bVF84c",
        "outputId": "ad7373d3-5394-4276-d41f-917418e41f38"
      },
      "execution_count": null,
      "outputs": [
        {
          "output_type": "stream",
          "name": "stdout",
          "text": [
            "Number of Gauss:  3\n"
          ]
        }
      ]
    },
    {
      "cell_type": "code",
      "source": [
        "df"
      ],
      "metadata": {
        "colab": {
          "base_uri": "https://localhost:8080/",
          "height": 424
        },
        "id": "JBTRbmmJ5k41",
        "outputId": "c028d64f-b5a9-4eb9-adce-ba961b8fc824"
      },
      "execution_count": null,
      "outputs": [
        {
          "output_type": "execute_result",
          "data": {
            "text/plain": [
              "   C0 C1 C2 C3 C4         X0         X1  Label\n",
              "0   B  C  D  B  E  13.921168  16.085213      1\n",
              "1   F  A  B  G  C  14.273645  11.349234      1\n",
              "2   D  A  C  E  D  15.025847  11.652899      1\n",
              "3   C  E  E  A  F  16.177096  10.627219      1\n",
              "4   C  B  B  B  E  18.053697  10.105520      1\n",
              ".. .. .. .. .. ..        ...        ...    ...\n",
              "94  A  A  B  C  B  22.514253  23.394211      0\n",
              "95  I  E  D  B  A  22.897518  23.640683      0\n",
              "96  D  A  A  C  C  20.245805  24.132204      0\n",
              "97  H  B  D  H  A  22.531306  21.800047      0\n",
              "98  F  H  C  A  A  20.217932  24.207073      0\n",
              "\n",
              "[99 rows x 8 columns]"
            ],
            "text/html": [
              "\n",
              "  <div id=\"df-23166772-c4f1-44b4-96da-6fc2173de1d6\">\n",
              "    <div class=\"colab-df-container\">\n",
              "      <div>\n",
              "<style scoped>\n",
              "    .dataframe tbody tr th:only-of-type {\n",
              "        vertical-align: middle;\n",
              "    }\n",
              "\n",
              "    .dataframe tbody tr th {\n",
              "        vertical-align: top;\n",
              "    }\n",
              "\n",
              "    .dataframe thead th {\n",
              "        text-align: right;\n",
              "    }\n",
              "</style>\n",
              "<table border=\"1\" class=\"dataframe\">\n",
              "  <thead>\n",
              "    <tr style=\"text-align: right;\">\n",
              "      <th></th>\n",
              "      <th>C0</th>\n",
              "      <th>C1</th>\n",
              "      <th>C2</th>\n",
              "      <th>C3</th>\n",
              "      <th>C4</th>\n",
              "      <th>X0</th>\n",
              "      <th>X1</th>\n",
              "      <th>Label</th>\n",
              "    </tr>\n",
              "  </thead>\n",
              "  <tbody>\n",
              "    <tr>\n",
              "      <th>0</th>\n",
              "      <td>B</td>\n",
              "      <td>C</td>\n",
              "      <td>D</td>\n",
              "      <td>B</td>\n",
              "      <td>E</td>\n",
              "      <td>13.921168</td>\n",
              "      <td>16.085213</td>\n",
              "      <td>1</td>\n",
              "    </tr>\n",
              "    <tr>\n",
              "      <th>1</th>\n",
              "      <td>F</td>\n",
              "      <td>A</td>\n",
              "      <td>B</td>\n",
              "      <td>G</td>\n",
              "      <td>C</td>\n",
              "      <td>14.273645</td>\n",
              "      <td>11.349234</td>\n",
              "      <td>1</td>\n",
              "    </tr>\n",
              "    <tr>\n",
              "      <th>2</th>\n",
              "      <td>D</td>\n",
              "      <td>A</td>\n",
              "      <td>C</td>\n",
              "      <td>E</td>\n",
              "      <td>D</td>\n",
              "      <td>15.025847</td>\n",
              "      <td>11.652899</td>\n",
              "      <td>1</td>\n",
              "    </tr>\n",
              "    <tr>\n",
              "      <th>3</th>\n",
              "      <td>C</td>\n",
              "      <td>E</td>\n",
              "      <td>E</td>\n",
              "      <td>A</td>\n",
              "      <td>F</td>\n",
              "      <td>16.177096</td>\n",
              "      <td>10.627219</td>\n",
              "      <td>1</td>\n",
              "    </tr>\n",
              "    <tr>\n",
              "      <th>4</th>\n",
              "      <td>C</td>\n",
              "      <td>B</td>\n",
              "      <td>B</td>\n",
              "      <td>B</td>\n",
              "      <td>E</td>\n",
              "      <td>18.053697</td>\n",
              "      <td>10.105520</td>\n",
              "      <td>1</td>\n",
              "    </tr>\n",
              "    <tr>\n",
              "      <th>...</th>\n",
              "      <td>...</td>\n",
              "      <td>...</td>\n",
              "      <td>...</td>\n",
              "      <td>...</td>\n",
              "      <td>...</td>\n",
              "      <td>...</td>\n",
              "      <td>...</td>\n",
              "      <td>...</td>\n",
              "    </tr>\n",
              "    <tr>\n",
              "      <th>94</th>\n",
              "      <td>A</td>\n",
              "      <td>A</td>\n",
              "      <td>B</td>\n",
              "      <td>C</td>\n",
              "      <td>B</td>\n",
              "      <td>22.514253</td>\n",
              "      <td>23.394211</td>\n",
              "      <td>0</td>\n",
              "    </tr>\n",
              "    <tr>\n",
              "      <th>95</th>\n",
              "      <td>I</td>\n",
              "      <td>E</td>\n",
              "      <td>D</td>\n",
              "      <td>B</td>\n",
              "      <td>A</td>\n",
              "      <td>22.897518</td>\n",
              "      <td>23.640683</td>\n",
              "      <td>0</td>\n",
              "    </tr>\n",
              "    <tr>\n",
              "      <th>96</th>\n",
              "      <td>D</td>\n",
              "      <td>A</td>\n",
              "      <td>A</td>\n",
              "      <td>C</td>\n",
              "      <td>C</td>\n",
              "      <td>20.245805</td>\n",
              "      <td>24.132204</td>\n",
              "      <td>0</td>\n",
              "    </tr>\n",
              "    <tr>\n",
              "      <th>97</th>\n",
              "      <td>H</td>\n",
              "      <td>B</td>\n",
              "      <td>D</td>\n",
              "      <td>H</td>\n",
              "      <td>A</td>\n",
              "      <td>22.531306</td>\n",
              "      <td>21.800047</td>\n",
              "      <td>0</td>\n",
              "    </tr>\n",
              "    <tr>\n",
              "      <th>98</th>\n",
              "      <td>F</td>\n",
              "      <td>H</td>\n",
              "      <td>C</td>\n",
              "      <td>A</td>\n",
              "      <td>A</td>\n",
              "      <td>20.217932</td>\n",
              "      <td>24.207073</td>\n",
              "      <td>0</td>\n",
              "    </tr>\n",
              "  </tbody>\n",
              "</table>\n",
              "<p>99 rows × 8 columns</p>\n",
              "</div>\n",
              "      <button class=\"colab-df-convert\" onclick=\"convertToInteractive('df-23166772-c4f1-44b4-96da-6fc2173de1d6')\"\n",
              "              title=\"Convert this dataframe to an interactive table.\"\n",
              "              style=\"display:none;\">\n",
              "        \n",
              "  <svg xmlns=\"http://www.w3.org/2000/svg\" height=\"24px\"viewBox=\"0 0 24 24\"\n",
              "       width=\"24px\">\n",
              "    <path d=\"M0 0h24v24H0V0z\" fill=\"none\"/>\n",
              "    <path d=\"M18.56 5.44l.94 2.06.94-2.06 2.06-.94-2.06-.94-.94-2.06-.94 2.06-2.06.94zm-11 1L8.5 8.5l.94-2.06 2.06-.94-2.06-.94L8.5 2.5l-.94 2.06-2.06.94zm10 10l.94 2.06.94-2.06 2.06-.94-2.06-.94-.94-2.06-.94 2.06-2.06.94z\"/><path d=\"M17.41 7.96l-1.37-1.37c-.4-.4-.92-.59-1.43-.59-.52 0-1.04.2-1.43.59L10.3 9.45l-7.72 7.72c-.78.78-.78 2.05 0 2.83L4 21.41c.39.39.9.59 1.41.59.51 0 1.02-.2 1.41-.59l7.78-7.78 2.81-2.81c.8-.78.8-2.07 0-2.86zM5.41 20L4 18.59l7.72-7.72 1.47 1.35L5.41 20z\"/>\n",
              "  </svg>\n",
              "      </button>\n",
              "      \n",
              "  <style>\n",
              "    .colab-df-container {\n",
              "      display:flex;\n",
              "      flex-wrap:wrap;\n",
              "      gap: 12px;\n",
              "    }\n",
              "\n",
              "    .colab-df-convert {\n",
              "      background-color: #E8F0FE;\n",
              "      border: none;\n",
              "      border-radius: 50%;\n",
              "      cursor: pointer;\n",
              "      display: none;\n",
              "      fill: #1967D2;\n",
              "      height: 32px;\n",
              "      padding: 0 0 0 0;\n",
              "      width: 32px;\n",
              "    }\n",
              "\n",
              "    .colab-df-convert:hover {\n",
              "      background-color: #E2EBFA;\n",
              "      box-shadow: 0px 1px 2px rgba(60, 64, 67, 0.3), 0px 1px 3px 1px rgba(60, 64, 67, 0.15);\n",
              "      fill: #174EA6;\n",
              "    }\n",
              "\n",
              "    [theme=dark] .colab-df-convert {\n",
              "      background-color: #3B4455;\n",
              "      fill: #D2E3FC;\n",
              "    }\n",
              "\n",
              "    [theme=dark] .colab-df-convert:hover {\n",
              "      background-color: #434B5C;\n",
              "      box-shadow: 0px 1px 3px 1px rgba(0, 0, 0, 0.15);\n",
              "      filter: drop-shadow(0px 1px 2px rgba(0, 0, 0, 0.3));\n",
              "      fill: #FFFFFF;\n",
              "    }\n",
              "  </style>\n",
              "\n",
              "      <script>\n",
              "        const buttonEl =\n",
              "          document.querySelector('#df-23166772-c4f1-44b4-96da-6fc2173de1d6 button.colab-df-convert');\n",
              "        buttonEl.style.display =\n",
              "          google.colab.kernel.accessAllowed ? 'block' : 'none';\n",
              "\n",
              "        async function convertToInteractive(key) {\n",
              "          const element = document.querySelector('#df-23166772-c4f1-44b4-96da-6fc2173de1d6');\n",
              "          const dataTable =\n",
              "            await google.colab.kernel.invokeFunction('convertToInteractive',\n",
              "                                                     [key], {});\n",
              "          if (!dataTable) return;\n",
              "\n",
              "          const docLinkHtml = 'Like what you see? Visit the ' +\n",
              "            '<a target=\"_blank\" href=https://colab.research.google.com/notebooks/data_table.ipynb>data table notebook</a>'\n",
              "            + ' to learn more about interactive tables.';\n",
              "          element.innerHTML = '';\n",
              "          dataTable['output_type'] = 'display_data';\n",
              "          await google.colab.output.renderOutput(dataTable, element);\n",
              "          const docLink = document.createElement('div');\n",
              "          docLink.innerHTML = docLinkHtml;\n",
              "          element.appendChild(docLink);\n",
              "        }\n",
              "      </script>\n",
              "    </div>\n",
              "  </div>\n",
              "  "
            ]
          },
          "metadata": {},
          "execution_count": 62
        }
      ]
    },
    {
      "cell_type": "markdown",
      "source": [
        "# Scatter plot"
      ],
      "metadata": {
        "id": "dbW-RYDs2A1C"
      }
    },
    {
      "cell_type": "code",
      "source": [
        "import seaborn as sns"
      ],
      "metadata": {
        "id": "Bvc3f5Gk2Dvh"
      },
      "execution_count": null,
      "outputs": []
    },
    {
      "cell_type": "code",
      "source": [
        "sns.pairplot(df)"
      ],
      "metadata": {
        "colab": {
          "base_uri": "https://localhost:8080/",
          "height": 568
        },
        "id": "uoa4vozT2IZE",
        "outputId": "a53bf1f2-0728-408d-c3d8-5aaf545b30bf"
      },
      "execution_count": null,
      "outputs": [
        {
          "output_type": "execute_result",
          "data": {
            "text/plain": [
              "<seaborn.axisgrid.PairGrid at 0x7fbf72443a30>"
            ]
          },
          "metadata": {},
          "execution_count": 61
        },
        {
          "output_type": "display_data",
          "data": {
            "text/plain": [
              "<Figure size 540x540 with 12 Axes>"
            ],
            "image/png": "[encoded data removed]"
          },
          "metadata": {
            "needs_background": "light"
          }
        }
      ]
    },
    {
      "cell_type": "markdown",
      "source": [
        "# Generate missing values in python\n",
        "https://rmisstastic.netlify.app/how-to/python/generate_html/how%20to%20generate%20missing%20values\n",
        "\n",
        "1. https://stackoverflow.com/questions/42091018/randomly-insert-nas-values-in-a-pandas-dataframe-with-no-rows-completely-miss\n",
        "\n",
        "1. https://stackoverflow.com/questions/42091018/randomly-insert-nas-values-in-a-pandas-dataframe-with-no-rows-completely-miss"
      ],
      "metadata": {
        "id": "0GanGoVzy1V4"
      }
    },
    {
      "cell_type": "code",
      "source": [
        "import collections"
      ],
      "metadata": {
        "id": "lqucCQ9l2zQp"
      },
      "execution_count": null,
      "outputs": []
    },
    {
      "cell_type": "code",
      "source": [
        "df = pd.DataFrame({'A':[1,2,3],\n",
        "                   'B':[4,5,6],\n",
        "                   'C':[7,8,9]})"
      ],
      "metadata": {
        "id": "jjzeSr7d26Kq"
      },
      "execution_count": null,
      "outputs": []
    },
    {
      "cell_type": "code",
      "source": [
        "def missing_val(percent , df):\n",
        "  replaced = collections.defaultdict(set)\n",
        "  ix = [(row, col) for row in range(df.shape[0]) for col in range(df.shape[1])]\n",
        "  random.shuffle(ix)\n",
        "  to_replace = int(round(percent*len(ix)))\n",
        "  for row, col in ix:\n",
        "    if len(replaced[row]) < df.shape[1] - 1:\n",
        "        df.iloc[row, col] = np.nan\n",
        "        to_replace -= 1\n",
        "        replaced[row].add(col)\n",
        "        if to_replace == 0:\n",
        "            break\n",
        "  return df"
      ],
      "metadata": {
        "id": "dCIc-7Ma0jA5"
      },
      "execution_count": null,
      "outputs": []
    },
    {
      "cell_type": "code",
      "source": [
        "df_out = missing_val(0.3, df)"
      ],
      "metadata": {
        "id": "yfSVvNCU28pU"
      },
      "execution_count": null,
      "outputs": []
    },
    {
      "cell_type": "code",
      "source": [
        "df_out"
      ],
      "metadata": {
        "colab": {
          "base_uri": "https://localhost:8080/",
          "height": 143
        },
        "id": "DD3VTqbv654S",
        "outputId": "5643373e-ea26-4548-dc07-a856562e2851"
      },
      "execution_count": null,
      "outputs": [
        {
          "output_type": "execute_result",
          "data": {
            "text/plain": [
              "     A    B    C\n",
              "0  1.0  4.0  NaN\n",
              "1  2.0  NaN  8.0\n",
              "2  NaN  6.0  9.0"
            ],
            "text/html": [
              "\n",
              "  <div id=\"df-5a97e7c3-c2c9-40cc-9305-3115370166f0\">\n",
              "    <div class=\"colab-df-container\">\n",
              "      <div>\n",
              "<style scoped>\n",
              "    .dataframe tbody tr th:only-of-type {\n",
              "        vertical-align: middle;\n",
              "    }\n",
              "\n",
              "    .dataframe tbody tr th {\n",
              "        vertical-align: top;\n",
              "    }\n",
              "\n",
              "    .dataframe thead th {\n",
              "        text-align: right;\n",
              "    }\n",
              "</style>\n",
              "<table border=\"1\" class=\"dataframe\">\n",
              "  <thead>\n",
              "    <tr style=\"text-align: right;\">\n",
              "      <th></th>\n",
              "      <th>A</th>\n",
              "      <th>B</th>\n",
              "      <th>C</th>\n",
              "    </tr>\n",
              "  </thead>\n",
              "  <tbody>\n",
              "    <tr>\n",
              "      <th>0</th>\n",
              "      <td>1.0</td>\n",
              "      <td>4.0</td>\n",
              "      <td>NaN</td>\n",
              "    </tr>\n",
              "    <tr>\n",
              "      <th>1</th>\n",
              "      <td>2.0</td>\n",
              "      <td>NaN</td>\n",
              "      <td>8.0</td>\n",
              "    </tr>\n",
              "    <tr>\n",
              "      <th>2</th>\n",
              "      <td>NaN</td>\n",
              "      <td>6.0</td>\n",
              "      <td>9.0</td>\n",
              "    </tr>\n",
              "  </tbody>\n",
              "</table>\n",
              "</div>\n",
              "      <button class=\"colab-df-convert\" onclick=\"convertToInteractive('df-5a97e7c3-c2c9-40cc-9305-3115370166f0')\"\n",
              "              title=\"Convert this dataframe to an interactive table.\"\n",
              "              style=\"display:none;\">\n",
              "        \n",
              "  <svg xmlns=\"http://www.w3.org/2000/svg\" height=\"24px\"viewBox=\"0 0 24 24\"\n",
              "       width=\"24px\">\n",
              "    <path d=\"M0 0h24v24H0V0z\" fill=\"none\"/>\n",
              "    <path d=\"M18.56 5.44l.94 2.06.94-2.06 2.06-.94-2.06-.94-.94-2.06-.94 2.06-2.06.94zm-11 1L8.5 8.5l.94-2.06 2.06-.94-2.06-.94L8.5 2.5l-.94 2.06-2.06.94zm10 10l.94 2.06.94-2.06 2.06-.94-2.06-.94-.94-2.06-.94 2.06-2.06.94z\"/><path d=\"M17.41 7.96l-1.37-1.37c-.4-.4-.92-.59-1.43-.59-.52 0-1.04.2-1.43.59L10.3 9.45l-7.72 7.72c-.78.78-.78 2.05 0 2.83L4 21.41c.39.39.9.59 1.41.59.51 0 1.02-.2 1.41-.59l7.78-7.78 2.81-2.81c.8-.78.8-2.07 0-2.86zM5.41 20L4 18.59l7.72-7.72 1.47 1.35L5.41 20z\"/>\n",
              "  </svg>\n",
              "      </button>\n",
              "      \n",
              "  <style>\n",
              "    .colab-df-container {\n",
              "      display:flex;\n",
              "      flex-wrap:wrap;\n",
              "      gap: 12px;\n",
              "    }\n",
              "\n",
              "    .colab-df-convert {\n",
              "      background-color: #E8F0FE;\n",
              "      border: none;\n",
              "      border-radius: 50%;\n",
              "      cursor: pointer;\n",
              "      display: none;\n",
              "      fill: #1967D2;\n",
              "      height: 32px;\n",
              "      padding: 0 0 0 0;\n",
              "      width: 32px;\n",
              "    }\n",
              "\n",
              "    .colab-df-convert:hover {\n",
              "      background-color: #E2EBFA;\n",
              "      box-shadow: 0px 1px 2px rgba(60, 64, 67, 0.3), 0px 1px 3px 1px rgba(60, 64, 67, 0.15);\n",
              "      fill: #174EA6;\n",
              "    }\n",
              "\n",
              "    [theme=dark] .colab-df-convert {\n",
              "      background-color: #3B4455;\n",
              "      fill: #D2E3FC;\n",
              "    }\n",
              "\n",
              "    [theme=dark] .colab-df-convert:hover {\n",
              "      background-color: #434B5C;\n",
              "      box-shadow: 0px 1px 3px 1px rgba(0, 0, 0, 0.15);\n",
              "      filter: drop-shadow(0px 1px 2px rgba(0, 0, 0, 0.3));\n",
              "      fill: #FFFFFF;\n",
              "    }\n",
              "  </style>\n",
              "\n",
              "      <script>\n",
              "        const buttonEl =\n",
              "          document.querySelector('#df-5a97e7c3-c2c9-40cc-9305-3115370166f0 button.colab-df-convert');\n",
              "        buttonEl.style.display =\n",
              "          google.colab.kernel.accessAllowed ? 'block' : 'none';\n",
              "\n",
              "        async function convertToInteractive(key) {\n",
              "          const element = document.querySelector('#df-5a97e7c3-c2c9-40cc-9305-3115370166f0');\n",
              "          const dataTable =\n",
              "            await google.colab.kernel.invokeFunction('convertToInteractive',\n",
              "                                                     [key], {});\n",
              "          if (!dataTable) return;\n",
              "\n",
              "          const docLinkHtml = 'Like what you see? Visit the ' +\n",
              "            '<a target=\"_blank\" href=https://colab.research.google.com/notebooks/data_table.ipynb>data table notebook</a>'\n",
              "            + ' to learn more about interactive tables.';\n",
              "          element.innerHTML = '';\n",
              "          dataTable['output_type'] = 'display_data';\n",
              "          await google.colab.output.renderOutput(dataTable, element);\n",
              "          const docLink = document.createElement('div');\n",
              "          docLink.innerHTML = docLinkHtml;\n",
              "          element.appendChild(docLink);\n",
              "        }\n",
              "      </script>\n",
              "    </div>\n",
              "  </div>\n",
              "  "
            ]
          },
          "metadata": {},
          "execution_count": 67
        }
      ]
    }
  ]
}